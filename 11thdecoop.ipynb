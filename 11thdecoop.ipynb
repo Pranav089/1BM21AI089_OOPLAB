{
  "nbformat": 4,
  "nbformat_minor": 0,
  "metadata": {
    "colab": {
      "provenance": []
    },
    "kernelspec": {
      "name": "python3",
      "display_name": "Python 3"
    },
    "language_info": {
      "name": "python"
    }
  },
  "cells": [
    {
      "cell_type": "code",
      "execution_count": 8,
      "metadata": {
        "colab": {
          "base_uri": "https://localhost:8080/",
          "height": 262
        },
        "id": "iTpz55D0gLvD",
        "outputId": "8eaa10b6-3adf-4bcb-8c2f-9a22b490bec7"
      },
      "outputs": [
        {
          "output_type": "stream",
          "name": "stdout",
          "text": [
            "10\n",
            "This is a public method.\n"
          ]
        },
        {
          "output_type": "error",
          "ename": "AttributeError",
          "evalue": "ignored",
          "traceback": [
            "\u001b[0;31m---------------------------------------------------------------------------\u001b[0m",
            "\u001b[0;31mAttributeError\u001b[0m                            Traceback (most recent call last)",
            "\u001b[0;32m<ipython-input-8-f7aa9df187d5>\u001b[0m in \u001b[0;36m<cell line: 14>\u001b[0;34m()\u001b[0m\n\u001b[1;32m     12\u001b[0m \u001b[0;34m\u001b[0m\u001b[0m\n\u001b[1;32m     13\u001b[0m \u001b[0mobj\u001b[0m\u001b[0;34m.\u001b[0m\u001b[0mpublic_method\u001b[0m\u001b[0;34m(\u001b[0m\u001b[0;34m)\u001b[0m\u001b[0;34m\u001b[0m\u001b[0;34m\u001b[0m\u001b[0m\n\u001b[0;32m---> 14\u001b[0;31m \u001b[0mprint\u001b[0m\u001b[0;34m(\u001b[0m\u001b[0mobj\u001b[0m\u001b[0;34m.\u001b[0m\u001b[0m__private_variable\u001b[0m\u001b[0;34m)\u001b[0m\u001b[0;34m\u001b[0m\u001b[0;34m\u001b[0m\u001b[0m\n\u001b[0m\u001b[1;32m     15\u001b[0m \u001b[0mobj\u001b[0m\u001b[0;34m.\u001b[0m\u001b[0m__private_method\u001b[0m\u001b[0;34m(\u001b[0m\u001b[0;34m)\u001b[0m\u001b[0;34m\u001b[0m\u001b[0;34m\u001b[0m\u001b[0m\n",
            "\u001b[0;31mAttributeError\u001b[0m: 'MyClass' object has no attribute '__private_variable'"
          ]
        }
      ],
      "source": [
        "class MyClass:\n",
        "     def __init__(self):\n",
        "        self.public_variable = 10\n",
        "        self.__private_var1able = 20\n",
        "\n",
        "     def public_method(self):\n",
        "        print(\"This is a public method.\")\n",
        "     def __private_method(seif):\n",
        "        print(\"This 1s a private method.\")\n",
        "obj = MyClass()\n",
        "print(obj.public_variable)\n",
        "\n",
        "obj.public_method()\n",
        "print(obj.__private_variable)\n",
        "obj.__private_method()"
      ]
    },
    {
      "cell_type": "code",
      "source": [
        "class Geeks:\n",
        "     def __init__(self):\n",
        "          self._age = 0\n",
        "\n",
        "     # function to get value of _age\n",
        "     def get_age(self):\n",
        "         print(\"getter method called\")\n",
        "         return self._age\n",
        "\n",
        "     # function to set value of _age\n",
        "     def set_age(self, a):\n",
        "         print(\"setter method called\")\n",
        "         self._age = a\n",
        "\n",
        "     # function to delete _age attribute\n",
        "     def del_age(self):\n",
        "         del self._age\n",
        "\n",
        "     age = property(get_age, set_age, del_age)\n",
        "\n",
        "mark = Geeks()\n",
        "\n",
        "mark.age = 10\n",
        "\n",
        "print(mark.age)"
      ],
      "metadata": {
        "id": "Hf8xXYYMiw3y"
      },
      "execution_count": null,
      "outputs": []
    },
    {
      "cell_type": "code",
      "source": [
        "class Student:\n",
        "    def __init__(self, name):\n",
        "        self.__name = name\n",
        "\n",
        "    def displayName(self):\n",
        "        print(self.__name)\n",
        "\n",
        "s1 = Student(\"Santhosh\")\n",
        "s1.displayName()\n",
        "\n",
        "# Raises an error\n",
        "print(s1.__name)"
      ],
      "metadata": {
        "colab": {
          "base_uri": "https://localhost:8080/",
          "height": 227
        },
        "id": "UnAmNUWxsdK6",
        "outputId": "af04dc95-7fba-4884-ff08-18b6d828bf29"
      },
      "execution_count": 10,
      "outputs": [
        {
          "output_type": "stream",
          "name": "stdout",
          "text": [
            "Santhosh\n"
          ]
        },
        {
          "output_type": "error",
          "ename": "AttributeError",
          "evalue": "ignored",
          "traceback": [
            "\u001b[0;31m---------------------------------------------------------------------------\u001b[0m",
            "\u001b[0;31mAttributeError\u001b[0m                            Traceback (most recent call last)",
            "\u001b[0;32m<ipython-input-10-bc4d1baeede1>\u001b[0m in \u001b[0;36m<cell line: 12>\u001b[0;34m()\u001b[0m\n\u001b[1;32m     10\u001b[0m \u001b[0;34m\u001b[0m\u001b[0m\n\u001b[1;32m     11\u001b[0m \u001b[0;31m# Raises an error\u001b[0m\u001b[0;34m\u001b[0m\u001b[0;34m\u001b[0m\u001b[0m\n\u001b[0;32m---> 12\u001b[0;31m \u001b[0mprint\u001b[0m\u001b[0;34m(\u001b[0m\u001b[0ms1\u001b[0m\u001b[0;34m.\u001b[0m\u001b[0m__name\u001b[0m\u001b[0;34m)\u001b[0m\u001b[0;34m\u001b[0m\u001b[0;34m\u001b[0m\u001b[0m\n\u001b[0m",
            "\u001b[0;31mAttributeError\u001b[0m: 'Student' object has no attribute '__name'"
          ]
        }
      ]
    },
    {
      "cell_type": "code",
      "source": [
        "class Employee:\n",
        "    def __init__(self, name, salary):\n",
        "        self.name = name\n",
        "        self.__salary = salary\n",
        "    def work(self):\n",
        "        print(f\"{self.name} is on work.\")\n",
        "    def show(self):\n",
        "        print(f\"Employee Details:\\nName: {self.name}\\nSalary: {self.__salary}\")\n",
        "employee1 = Employee(\"Modi\", 100000)\n",
        "print(\"Employee Name:\", employee1.name)\n",
        "employee1.work()\n",
        "employee1.show()"
      ],
      "metadata": {
        "colab": {
          "base_uri": "https://localhost:8080/"
        },
        "id": "hlXo_ax8tf-C",
        "outputId": "54d65fa6-62ec-406c-944a-ad3170073994"
      },
      "execution_count": 9,
      "outputs": [
        {
          "output_type": "stream",
          "name": "stdout",
          "text": [
            "Employee Name: Modi\n",
            "Modi is on work.\n",
            "Employee Details:\n",
            "Name: Modi\n",
            "Salary: 100000\n"
          ]
        }
      ]
    }
  ]
}