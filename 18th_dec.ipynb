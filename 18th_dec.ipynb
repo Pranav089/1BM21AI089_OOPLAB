{
  "nbformat": 4,
  "nbformat_minor": 0,
  "metadata": {
    "colab": {
      "provenance": []
    },
    "kernelspec": {
      "name": "python3",
      "display_name": "Python 3"
    },
    "language_info": {
      "name": "python"
    }
  },
  "cells": [
    {
      "cell_type": "code",
      "execution_count": 1,
      "metadata": {
        "colab": {
          "base_uri": "https://localhost:8080/"
        },
        "id": "WyIt32oi9WKT",
        "outputId": "aae18137-a32c-430a-e57f-4ed823247243"
      },
      "outputs": [
        {
          "output_type": "stream",
          "name": "stdout",
          "text": [
            "welcome\n"
          ]
        }
      ],
      "source": [
        "from abc import ABC, abstractmethod\n",
        "class computer(ABC):\n",
        "    @abstractmethod\n",
        "    def disp(self):\n",
        "        pass\n",
        "class laptop(computer):\n",
        "    def disp(self):\n",
        "        print(\"welcome\")\n",
        "l1 = laptop()\n",
        "l1.disp()"
      ]
    },
    {
      "cell_type": "code",
      "source": [
        "from abc import ABC, abstractmethod\n",
        "class vehicle(ABC):\n",
        "    @abstractmethod\n",
        "    def nowh(self):\n",
        "        pass\n",
        "    def start(self):\n",
        "        pass\n",
        "class bike(vehicle):\n",
        "    def nowh(self):\n",
        "        print(\"2\")\n",
        "    def start(self):\n",
        "        print(\"kickstart\")\n",
        "\n",
        "class car(vehicle):\n",
        "    def nowh(self):\n",
        "        print(\"4\")\n",
        "    def start(self):\n",
        "        print(\"selfstart\")\n",
        "\n",
        "class bus(vehicle):\n",
        "    def nowh(self):\n",
        "        print(\"6\")\n",
        "\n",
        "b1 = bike()\n",
        "b1.nowh()\n",
        "b1.start()\n",
        "\n",
        "c1 = car()\n",
        "c1.nowh()\n",
        "c1.start()\n",
        "\n",
        "bu1 = bus()\n",
        "bu1.nowh()"
      ],
      "metadata": {
        "colab": {
          "base_uri": "https://localhost:8080/"
        },
        "id": "L02ifAb89cGg",
        "outputId": "de26e98f-6b85-4b15-fd02-6a75f697357d"
      },
      "execution_count": 2,
      "outputs": [
        {
          "output_type": "stream",
          "name": "stdout",
          "text": [
            "2\n",
            "kickstart\n",
            "4\n",
            "selfstart\n",
            "6\n"
          ]
        }
      ]
    },
    {
      "cell_type": "code",
      "source": [
        "class CreditCard:\n",
        "    def __init__(self, limit):\n",
        "        self.__limit = limit\n",
        "        self.__balance = 0\n",
        "\n",
        "    def get_balance(self):\n",
        "        return self.__balance\n",
        "\n",
        "    def deposit(self, amount):\n",
        "            self.__balance += amount\n",
        "            print(f\"New balance: {self.__balance}\")\n",
        "\n",
        "    def withdraw(self, amount):\n",
        "        if amount <= self.__balance and amount <= self.__limit:\n",
        "            self.__balance -= amount\n",
        "            print(f\"New balance: {self.__balance}\")\n",
        "        elif amount > self.__balance:\n",
        "            print(\"Insufficient funds for withdrawal.\")\n",
        "        else:\n",
        "            print(\"Withdrawal amount exceeds the credit limit.\")\n",
        "credit_card = CreditCard(limit=1000)\n",
        "print(\"Initial balance:\", credit_card.get_balance())\n",
        "\n",
        "credit_card.deposit(500)\n",
        "credit_card.withdraw(200)\n",
        "credit_card.withdraw(800)\n",
        "credit_card.deposit(300)\n",
        "\n",
        "print(\"Final balance:\", credit_card.get_balance())"
      ],
      "metadata": {
        "colab": {
          "base_uri": "https://localhost:8080/"
        },
        "id": "K3WCSYNg9h5F",
        "outputId": "cad98b39-9145-4557-f884-62f7707564e4"
      },
      "execution_count": 3,
      "outputs": [
        {
          "output_type": "stream",
          "name": "stdout",
          "text": [
            "Initial balance: 0\n",
            "New balance: 500\n",
            "New balance: 300\n",
            "Insufficient funds for withdrawal.\n",
            "New balance: 600\n",
            "Final balance: 600\n"
          ]
        }
      ]
    }
  ]
}