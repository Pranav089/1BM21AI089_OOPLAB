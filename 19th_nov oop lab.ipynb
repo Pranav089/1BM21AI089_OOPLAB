{
  "nbformat": 4,
  "nbformat_minor": 0,
  "metadata": {
    "colab": {
      "provenance": []
    },
    "kernelspec": {
      "name": "python3",
      "display_name": "Python 3"
    },
    "language_info": {
      "name": "python"
    }
  },
  "cells": [
    {
      "cell_type": "code",
      "execution_count": 5,
      "metadata": {
        "colab": {
          "base_uri": "https://localhost:8080/"
        },
        "id": "xJ2tYJ9jLl_Y",
        "outputId": "834192a2-97f4-41d0-fea3-383d6154973f"
      },
      "outputs": [
        {
          "output_type": "stream",
          "name": "stdout",
          "text": [
            "the list is:\n",
            "[1, 2, 3, 4]\n",
            "4\n"
          ]
        }
      ],
      "source": [
        "def largestele(list):\n",
        "\n",
        " print(\"the list is:\")\n",
        " print(list)\n",
        " large=list[0]\n",
        " for element in list:\n",
        "   if element>large:\n",
        "      large=element\n",
        " return large\n",
        "list=[1,2,3,4]\n",
        "x=largestele(list)\n",
        "print(x)\n"
      ]
    },
    {
      "cell_type": "code",
      "source": [
        "def hex_area(s):\n",
        "  return (3**1.5)*0.5*s**2\n",
        "result=hex_area(4)\n",
        "print(result)"
      ],
      "metadata": {
        "colab": {
          "base_uri": "https://localhost:8080/"
        },
        "id": "CbiTJBmbRLUL",
        "outputId": "f6374a33-eb13-49e4-c3fa-752625edf5cd"
      },
      "execution_count": 6,
      "outputs": [
        {
          "output_type": "stream",
          "name": "stdout",
          "text": [
            "41.569219381653056\n"
          ]
        }
      ]
    },
    {
      "cell_type": "code",
      "source": [
        "def is_valid_email(email):\n",
        "    parts = email.split('@')\n",
        "    if len(parts) == 2:\n",
        "        local_part, domain_part = parts\n",
        "        if local_part and domain_part:\n",
        "            if '.' in domain_part:\n",
        "                return True\n",
        "\n",
        "    return False\n",
        "\n",
        "\n",
        "email_address = \"whyraat@email.com\"\n",
        "if is_valid_email(email_address):\n",
        "    print(f\"{email_address} is a valid email address.\")\n",
        "else:\n",
        "    print(f\"{email_address} is not a valid email address.\")"
      ],
      "metadata": {
        "colab": {
          "base_uri": "https://localhost:8080/"
        },
        "id": "eCSyqzuISWlj",
        "outputId": "d897301c-a9ee-493f-ec03-8d9c8ccea553"
      },
      "execution_count": 8,
      "outputs": [
        {
          "output_type": "stream",
          "name": "stdout",
          "text": [
            "whyraat@email.com is a valid email address.\n"
          ]
        }
      ]
    },
    {
      "cell_type": "code",
      "source": [
        "def encrypt(input_str):\n",
        "    x = 3\n",
        "    lst = ascii_values(input_str)\n",
        "    encrypted_lst = [i + x for i in lst]\n",
        "    enc = string_from_ascii_values(encrypted_lst)\n",
        "    return enc\n",
        "\n",
        "def decrypt(input_str):\n",
        "    x = -3\n",
        "    lst = ascii_values(input_str)\n",
        "    decrypted_lst = [i + x for i in lst]\n",
        "    dec = string_from_ascii_values(decrypted_lst)\n",
        "    return dec\n",
        "\n",
        "def ascii_values(input_string):\n",
        "    return [ord(char) for char in input_string]\n",
        "\n",
        "def string_from_ascii_values(ascii_list):\n",
        "    return ''.join(chr(value) for value in ascii_list)\n",
        "\n",
        "while(1):\n",
        "  choice = int(input(\"Enter 1 for encryption or 2 for decryption: \"))\n",
        "  user_input = input(\"Enter the string: \")\n",
        "  if choice == 1:\n",
        "    result = encrypt(user_input)\n",
        "    print(\"Encrypted:\", result)\n",
        "  elif choice == 2:\n",
        "    result = decrypt(user_input)\n",
        "    print(\"Decrypted:\", result)\n",
        "  else:\n",
        "    print(\"Invalid choice. Please enter 1 for encryption or 2 for decryption.\")\n",
        "\n"
      ],
      "metadata": {
        "colab": {
          "base_uri": "https://localhost:8080/",
          "height": 494
        },
        "id": "OKKXSrBRT2jv",
        "outputId": "315fc907-9abd-4eca-e515-9a435435f780"
      },
      "execution_count": 1,
      "outputs": [
        {
          "output_type": "stream",
          "name": "stdout",
          "text": [
            "Enter 1 for encryption or 2 for decryption: 1\n",
            "Enter the string: the\n",
            "Encrypted: wkh\n",
            "Enter 1 for encryption or 2 for decryption: 2\n",
            "Enter the string: wkh\n",
            "Decrypted: the\n"
          ]
        },
        {
          "output_type": "error",
          "ename": "KeyboardInterrupt",
          "evalue": "ignored",
          "traceback": [
            "\u001b[0;31m---------------------------------------------------------------------------\u001b[0m",
            "\u001b[0;31mKeyboardInterrupt\u001b[0m                         Traceback (most recent call last)",
            "\u001b[0;32m<ipython-input-1-e9148f627ea3>\u001b[0m in \u001b[0;36m<cell line: 21>\u001b[0;34m()\u001b[0m\n\u001b[1;32m     20\u001b[0m \u001b[0;34m\u001b[0m\u001b[0m\n\u001b[1;32m     21\u001b[0m \u001b[0;32mwhile\u001b[0m\u001b[0;34m(\u001b[0m\u001b[0;36m1\u001b[0m\u001b[0;34m)\u001b[0m\u001b[0;34m:\u001b[0m\u001b[0;34m\u001b[0m\u001b[0;34m\u001b[0m\u001b[0m\n\u001b[0;32m---> 22\u001b[0;31m   \u001b[0mchoice\u001b[0m \u001b[0;34m=\u001b[0m \u001b[0mint\u001b[0m\u001b[0;34m(\u001b[0m\u001b[0minput\u001b[0m\u001b[0;34m(\u001b[0m\u001b[0;34m\"Enter 1 for encryption or 2 for decryption: \"\u001b[0m\u001b[0;34m)\u001b[0m\u001b[0;34m)\u001b[0m\u001b[0;34m\u001b[0m\u001b[0;34m\u001b[0m\u001b[0m\n\u001b[0m\u001b[1;32m     23\u001b[0m   \u001b[0muser_input\u001b[0m \u001b[0;34m=\u001b[0m \u001b[0minput\u001b[0m\u001b[0;34m(\u001b[0m\u001b[0;34m\"Enter the string: \"\u001b[0m\u001b[0;34m)\u001b[0m\u001b[0;34m\u001b[0m\u001b[0;34m\u001b[0m\u001b[0m\n\u001b[1;32m     24\u001b[0m   \u001b[0;32mif\u001b[0m \u001b[0mchoice\u001b[0m \u001b[0;34m==\u001b[0m \u001b[0;36m1\u001b[0m\u001b[0;34m:\u001b[0m\u001b[0;34m\u001b[0m\u001b[0;34m\u001b[0m\u001b[0m\n",
            "\u001b[0;32m/usr/local/lib/python3.10/dist-packages/ipykernel/kernelbase.py\u001b[0m in \u001b[0;36mraw_input\u001b[0;34m(self, prompt)\u001b[0m\n\u001b[1;32m    849\u001b[0m                 \u001b[0;34m\"raw_input was called, but this frontend does not support input requests.\"\u001b[0m\u001b[0;34m\u001b[0m\u001b[0;34m\u001b[0m\u001b[0m\n\u001b[1;32m    850\u001b[0m             )\n\u001b[0;32m--> 851\u001b[0;31m         return self._input_request(str(prompt),\n\u001b[0m\u001b[1;32m    852\u001b[0m             \u001b[0mself\u001b[0m\u001b[0;34m.\u001b[0m\u001b[0m_parent_ident\u001b[0m\u001b[0;34m,\u001b[0m\u001b[0;34m\u001b[0m\u001b[0;34m\u001b[0m\u001b[0m\n\u001b[1;32m    853\u001b[0m             \u001b[0mself\u001b[0m\u001b[0;34m.\u001b[0m\u001b[0m_parent_header\u001b[0m\u001b[0;34m,\u001b[0m\u001b[0;34m\u001b[0m\u001b[0;34m\u001b[0m\u001b[0m\n",
            "\u001b[0;32m/usr/local/lib/python3.10/dist-packages/ipykernel/kernelbase.py\u001b[0m in \u001b[0;36m_input_request\u001b[0;34m(self, prompt, ident, parent, password)\u001b[0m\n\u001b[1;32m    893\u001b[0m             \u001b[0;32mexcept\u001b[0m \u001b[0mKeyboardInterrupt\u001b[0m\u001b[0;34m:\u001b[0m\u001b[0;34m\u001b[0m\u001b[0;34m\u001b[0m\u001b[0m\n\u001b[1;32m    894\u001b[0m                 \u001b[0;31m# re-raise KeyboardInterrupt, to truncate traceback\u001b[0m\u001b[0;34m\u001b[0m\u001b[0;34m\u001b[0m\u001b[0m\n\u001b[0;32m--> 895\u001b[0;31m                 \u001b[0;32mraise\u001b[0m \u001b[0mKeyboardInterrupt\u001b[0m\u001b[0;34m(\u001b[0m\u001b[0;34m\"Interrupted by user\"\u001b[0m\u001b[0;34m)\u001b[0m \u001b[0;32mfrom\u001b[0m \u001b[0;32mNone\u001b[0m\u001b[0;34m\u001b[0m\u001b[0;34m\u001b[0m\u001b[0m\n\u001b[0m\u001b[1;32m    896\u001b[0m             \u001b[0;32mexcept\u001b[0m \u001b[0mException\u001b[0m \u001b[0;32mas\u001b[0m \u001b[0me\u001b[0m\u001b[0;34m:\u001b[0m\u001b[0;34m\u001b[0m\u001b[0;34m\u001b[0m\u001b[0m\n\u001b[1;32m    897\u001b[0m                 \u001b[0mself\u001b[0m\u001b[0;34m.\u001b[0m\u001b[0mlog\u001b[0m\u001b[0;34m.\u001b[0m\u001b[0mwarning\u001b[0m\u001b[0;34m(\u001b[0m\u001b[0;34m\"Invalid Message:\"\u001b[0m\u001b[0;34m,\u001b[0m \u001b[0mexc_info\u001b[0m\u001b[0;34m=\u001b[0m\u001b[0;32mTrue\u001b[0m\u001b[0;34m)\u001b[0m\u001b[0;34m\u001b[0m\u001b[0;34m\u001b[0m\u001b[0m\n",
            "\u001b[0;31mKeyboardInterrupt\u001b[0m: Interrupted by user"
          ]
        }
      ]
    },
    {
      "cell_type": "code",
      "source": [
        "def is_palindrome(s):\n",
        "    return s == s[::-1]\n",
        "\n",
        "def all_palindromes(input_str):\n",
        "    palindromes = []\n",
        "    n = len(input_str)\n",
        "    for i in range(n):\n",
        "        for j in range(i + 1, n + 1):\n",
        "            substring = input_str[i:j]\n",
        "            if is_palindrome(substring):\n",
        "                palindromes.append(substring)\n",
        "    return palindromes\n",
        "\n",
        "\n",
        "user_input = input(\"Enter a string: \")\n",
        "\n",
        "\n",
        "result = all_palindromes(user_input)\n",
        "print(\"All palindromic substrings:\", result)\n"
      ],
      "metadata": {
        "colab": {
          "base_uri": "https://localhost:8080/"
        },
        "id": "VuCVMDK3aJUY",
        "outputId": "472ee9e8-99da-4b31-cae7-58293b7669a3"
      },
      "execution_count": 2,
      "outputs": [
        {
          "output_type": "stream",
          "name": "stdout",
          "text": [
            "Enter a string: rapgod\n",
            "All palindromic substrings: ['r', 'a', 'p', 'g', 'o', 'd']\n"
          ]
        }
      ]
    }
  ]
}