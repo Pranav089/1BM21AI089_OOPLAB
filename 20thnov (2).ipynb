{
  "nbformat": 4,
  "nbformat_minor": 0,
  "metadata": {
    "colab": {
      "provenance": []
    },
    "kernelspec": {
      "name": "python3",
      "display_name": "Python 3"
    },
    "language_info": {
      "name": "python"
    }
  },
  "cells": [
    {
      "cell_type": "code",
      "execution_count": 2,
      "metadata": {
        "colab": {
          "base_uri": "https://localhost:8080/"
        },
        "id": "0qBKKxHdTBFE",
        "outputId": "280023a3-b88a-474a-e440-7c41ce0aa6d1"
      },
      "outputs": [
        {
          "output_type": "stream",
          "name": "stdout",
          "text": [
            "True\n",
            "False\n",
            "True\n",
            "False\n",
            "\n",
            "Checking if the said classes are subclasses of the built-in object class or not.\n",
            "True\n",
            "True\n"
          ]
        }
      ],
      "source": [
        "class Students:\n",
        "    pass\n",
        "class Marks:\n",
        "    pass\n",
        "student0 = Students()\n",
        "marks0 = Marks()\n",
        "print(isinstance(student0, Students))\n",
        "print(isinstance(marks0, Students))\n",
        "print(isinstance(marks0, Marks))\n",
        "print(isinstance(student0, Marks))\n",
        "print(\"\\nChecking if the said classes are subclasses of the built-in object class or not.\")\n",
        "print(issubclass(Students, object))\n",
        "print(issubclass(Marks, object))\n"
      ]
    },
    {
      "cell_type": "code",
      "source": [
        "class hisBirthday:\n",
        "    def __init__(self, name, age):\n",
        "        self.name = name\n",
        "        self.age = age\n",
        "\n",
        "    def celebrate_birthday(self):\n",
        "        self.age += 1\n",
        "        print(f\"Happy wala Birthday, {self.name}! You are now {self.age} years old.\")\n",
        "\n",
        "\n",
        "person = hisBirthday(name=\"bankaiiiiiiii\", age=21)\n",
        "\n",
        "\n",
        "person.celebrate_birthday()\n"
      ],
      "metadata": {
        "colab": {
          "base_uri": "https://localhost:8080/"
        },
        "id": "7XUKwo9oXvgY",
        "outputId": "6a053455-1116-42f1-dfa9-913496b9db13"
      },
      "execution_count": 5,
      "outputs": [
        {
          "output_type": "stream",
          "name": "stdout",
          "text": [
            "Happy wala Birthday, bankaiiiiiiii! You are now 22 years old.\n"
          ]
        }
      ]
    },
    {
      "cell_type": "code",
      "source": [
        "class Song:\n",
        "\n",
        "    def __init__(self, lyrics):\n",
        "        self.lyrics = lyrics\n",
        "\n",
        "    def birthdaysong(self):\n",
        "        for elem in self.lyrics:\n",
        "            print (elem)\n",
        "\n",
        "\n",
        "happy_bday = Song([\"May god blast you, \",\n",
        "                   \"Have a sunshine on you,\",\n",
        "                   \"Happy Birthday to you !\"])\n",
        "\n",
        "happy_bday.birthdaysong()"
      ],
      "metadata": {
        "colab": {
          "base_uri": "https://localhost:8080/"
        },
        "id": "80MExo1pam39",
        "outputId": "c107ae73-bfb7-4408-d3c2-84b664ec74ee"
      },
      "execution_count": 8,
      "outputs": [
        {
          "output_type": "stream",
          "name": "stdout",
          "text": [
            "May god blast you, \n",
            "Have a sunshine on you,\n",
            "Happy Birthday to you !\n"
          ]
        }
      ]
    },
    {
      "cell_type": "code",
      "source": [
        "class Dog:\n",
        "    def __init__(self, name, size, breed=\"Unknown\", dob=\"Unknown\"):\n",
        "        self.name = name\n",
        "        self.size = size\n",
        "        self.breed = breed\n",
        "        self.dob = dob\n",
        "\n",
        "    def bark(self):\n",
        "        print('bonk bonk!')\n",
        "\n",
        "    def get_name(self):\n",
        "        return self.name\n",
        "\n",
        "    def set_name(self, new_name):\n",
        "\n",
        "        self.name = new_name.lower()\n",
        "\n",
        "    def set_size(self, new_size):\n",
        "        self.size = new_size\n",
        "\n",
        "    def set_dob(self, new_dob):\n",
        "        self.dob = new_dob\n",
        "\n",
        "    def set_breed(self, new_breed):\n",
        "        self.breed = new_breed\n",
        "\n",
        "    def dog_years(self):\n",
        "\n",
        "        if self.dob == \"Unknown\":\n",
        "            return -1\n",
        "        else:\n",
        "\n",
        "            birth_year = int(self.dob[-4:])\n",
        "            current_year = 2023\n",
        "            age_in_human_years = current_year - birth_year\n",
        "            age_in_dog_years = age_in_human_years * 7\n",
        "            return age_in_dog_years\n",
        "\n",
        "\n",
        "\n",
        "def main():\n",
        "\n",
        "    my_dog = Dog(\"cupcake\", \"Medium\")\n",
        "\n",
        "    print(\"Initial Dog Details:\")\n",
        "    print(\"Name:\", my_dog.get_name())\n",
        "    print(\"Size:\", my_dog.size)\n",
        "    print(\"Breed:\", my_dog.breed)\n",
        "    print(\"Date of Birth:\", my_dog.dob)\n",
        "    my_dog.bark()\n",
        "\n",
        "\n",
        "    new_name = input(\"Enter a new name for the dog: \")\n",
        "    my_dog.set_name(new_name)\n",
        "\n",
        "\n",
        "    new_size = input(\"Enter a new size for the dog: \")\n",
        "    my_dog.set_size(new_size)\n",
        "\n",
        "\n",
        "    new_dob = input(\"Enter a new date of birth for the dog (DD/MM/YYYY): \")\n",
        "    my_dog.set_dob(new_dob)\n",
        "\n",
        "\n",
        "    new_breed = input(\"Enter a new breed for the dog: \")\n",
        "    my_dog.set_breed(new_breed)\n",
        "\n",
        "\n",
        "    print(\"\\nUpdated Dog Details:\")\n",
        "    print(\"Name:\", my_dog.get_name())\n",
        "    print(\"Size:\", my_dog.size)\n",
        "    print(\"Breed:\", my_dog.breed)\n",
        "    print(\"Date of Birth:\", my_dog.dob)\n",
        "    my_dog.bark()\n",
        "\n",
        "\n",
        "    dog_years = my_dog.dog_years()\n",
        "    if dog_years != -1:\n",
        "        print(\"\\nDog's Age in Dog Years:\", dog_years)\n",
        "    else:\n",
        "        print(\"\\nDog's Age is Unknown.\")\n",
        "\n",
        "\n",
        "\n",
        "if __name__ == \"__main__\":\n",
        "    main()\n",
        "\n",
        "\n",
        "\n"
      ],
      "metadata": {
        "colab": {
          "base_uri": "https://localhost:8080/"
        },
        "id": "6PCoDhdzf6rX",
        "outputId": "fc54af92-7701-4bbe-fd7a-cb3c706c9445"
      },
      "execution_count": 9,
      "outputs": [
        {
          "output_type": "stream",
          "name": "stdout",
          "text": [
            "Initial Dog Details:\n",
            "Name: cupcake\n",
            "Size: Medium\n",
            "Breed: Unknown\n",
            "Date of Birth: Unknown\n",
            "bonk bonk!\n",
            "Enter a new name for the dog: bhupendra_jogi\n",
            "Enter a new size for the dog: small\n",
            "Enter a new date of birth for the dog (DD/MM/YYYY): 32/20/2099\n",
            "Enter a new breed for the dog: water type\n",
            "\n",
            "Updated Dog Details:\n",
            "Name: bhupendra_jogi\n",
            "Size: small\n",
            "Breed: water type\n",
            "Date of Birth: 32/20/2099\n",
            "bonk bonk!\n",
            "\n",
            "Dog's Age in Dog Years: -532\n"
          ]
        }
      ]
    }
  ]
}