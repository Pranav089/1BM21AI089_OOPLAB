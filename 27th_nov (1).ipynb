{
  "nbformat": 4,
  "nbformat_minor": 0,
  "metadata": {
    "colab": {
      "provenance": []
    },
    "kernelspec": {
      "name": "python3",
      "display_name": "Python 3"
    },
    "language_info": {
      "name": "python"
    }
  },
  "cells": [
    {
      "cell_type": "code",
      "execution_count": 12,
      "metadata": {
        "colab": {
          "base_uri": "https://localhost:8080/",
          "height": 245
        },
        "id": "HKxG7DEpYE5f",
        "outputId": "51d9cbdf-4966-4adf-c0ff-a4ac17fb4234"
      },
      "outputs": [
        {
          "output_type": "error",
          "ename": "TypeError",
          "evalue": "ignored",
          "traceback": [
            "\u001b[0;31m---------------------------------------------------------------------------\u001b[0m",
            "\u001b[0;31mTypeError\u001b[0m                                 Traceback (most recent call last)",
            "\u001b[0;32m<ipython-input-12-b38f3f8646dc>\u001b[0m in \u001b[0;36m<cell line: 12>\u001b[0;34m()\u001b[0m\n\u001b[1;32m     10\u001b[0m \u001b[0;34m\u001b[0m\u001b[0m\n\u001b[1;32m     11\u001b[0m \u001b[0mb1\u001b[0m \u001b[0;34m=\u001b[0m \u001b[0mBMS\u001b[0m\u001b[0;34m(\u001b[0m\u001b[0;34m)\u001b[0m\u001b[0;34m\u001b[0m\u001b[0;34m\u001b[0m\u001b[0m\n\u001b[0;32m---> 12\u001b[0;31m \u001b[0mb1\u001b[0m\u001b[0;34m.\u001b[0m\u001b[0madd\u001b[0m\u001b[0;34m(\u001b[0m\u001b[0;36m10\u001b[0m\u001b[0;34m,\u001b[0m\u001b[0;36m2\u001b[0m\u001b[0;34m)\u001b[0m\u001b[0;34m\u001b[0m\u001b[0;34m\u001b[0m\u001b[0m\n\u001b[0m\u001b[1;32m     13\u001b[0m \u001b[0mb1\u001b[0m\u001b[0;34m.\u001b[0m\u001b[0mdisplay\u001b[0m\u001b[0;34m(\u001b[0m\u001b[0;34m)\u001b[0m\u001b[0;34m\u001b[0m\u001b[0;34m\u001b[0m\u001b[0m\n\u001b[1;32m     14\u001b[0m \u001b[0;34m\u001b[0m\u001b[0m\n",
            "\u001b[0;31mTypeError\u001b[0m: BMS.add() takes 2 positional arguments but 3 were given"
          ]
        }
      ],
      "source": [
        "class BMS:\n",
        "\n",
        " def display(self):\n",
        "   self.collage='BMSCE'\n",
        "   print(self.collagename)\n",
        "\n",
        " def add (n1,n2):\n",
        "    print(n1+n2)\n",
        "\n",
        "\n",
        "b1 = BMS()\n",
        "b1.add(10,2)\n",
        "b1.display()\n",
        "\n"
      ]
    },
    {
      "cell_type": "code",
      "source": [
        "class student:\n",
        "    counter=0\n",
        "    def __init__ (self,n,m):\n",
        "      self.name=n\n",
        "      self.marks=m\n",
        "      student.counter+=1\n",
        "    def disp(self):\n",
        "        print(self.name)\n",
        "        print(self.marks)\n",
        "    def obj_count(cls):\n",
        "      return (cls.couner)\n",
        "      if __name__==\"__main__\":\n",
        "        s1= student(\"k\")\n",
        "        s2=student(\"p\")\n",
        "        print(student.obj_counter)\n",
        "\n",
        "\n"
      ],
      "metadata": {
        "id": "lGxUged2aa7X"
      },
      "execution_count": 30,
      "outputs": []
    },
    {
      "cell_type": "code",
      "source": [
        "class Calculator:\n",
        "    def __init__(self, version):\n",
        "        self.version = version\n",
        "\n",
        "    def display_version(self):\n",
        "        print(f\"Calculator Version: {self.version}\")\n",
        "\n",
        "    @staticmethod\n",
        "    def add_numbers(num1, num2):\n",
        "        return num1 + num2\n",
        "\n",
        "def main():\n",
        "    calculator1 = Calculator(version=\"1.0\")\n",
        "    calculator2 = Calculator(version=\"2.0\")\n",
        "\n",
        "    calculator1.display_version()\n",
        "    calculator2.display_version()\n",
        "\n",
        "    num1 = 5\n",
        "    num2 = 7\n",
        "    result = Calculator.add_numbers(num1, num2)\n",
        "\n",
        "    print(f\"Addition of {num1} and {num2} is: {result}\")\n",
        "\n",
        "if __name__ == \"__main__\":\n",
        "  main()"
      ],
      "metadata": {
        "colab": {
          "base_uri": "https://localhost:8080/"
        },
        "id": "bXDhmzi_iIWX",
        "outputId": "0cad080a-e4f9-425b-b9a1-f9b8975dee3a"
      },
      "execution_count": 24,
      "outputs": [
        {
          "output_type": "stream",
          "name": "stdout",
          "text": [
            "Calculator Version: 1.0\n",
            "Calculator Version: 2.0\n",
            "Addition of 5 and 7 is: 12\n"
          ]
        }
      ]
    },
    {
      "cell_type": "code",
      "source": [
        "calculate_circle_area = lambda radius: 3.14159 * radius ** 2\n",
        "\n",
        "# Example usage\n",
        "radius = 5\n",
        "area = calculate_circle_area(radius)\n",
        "print(f\"The area of a circle with radius {radius} is: {area}\")"
      ],
      "metadata": {
        "colab": {
          "base_uri": "https://localhost:8080/"
        },
        "id": "RpfouybAjdSh",
        "outputId": "c3b93938-b5f3-4e72-ab28-b2a334ab7d23"
      },
      "execution_count": 25,
      "outputs": [
        {
          "output_type": "stream",
          "name": "stdout",
          "text": [
            "The area of a circle with radius 5 is: 78.53975\n"
          ]
        }
      ]
    },
    {
      "cell_type": "code",
      "source": [
        "class Complex ():\n",
        "    def initComplex(self):\n",
        "        self.realPart = int(input(\"Enter the Real Part: \"))\n",
        "        self.imgPart = int(input(\"Enter the Imaginary Part: \"))\n",
        "    def display(self):\n",
        "        print(self.realPart,\"+\",self.imgPart,\"i\", sep=\"\")\n",
        "    def sum(self, c1, c2):\n",
        "        self.realPart = c1.realPart + c2.realPart\n",
        "        self.imgPart = c1.imgPart + c2.imgPart\n",
        "c1 = Complex()\n",
        "c2 = Complex()\n",
        "c3 = Complex()\n",
        "print(\"Enter first complex number\")\n",
        "c1.initComplex()\n",
        "print(\"First Complex Number: \", end=\"\")\n",
        "c1.display()\n",
        "print(\"Enter second complex number\")\n",
        "c2.initComplex()\n",
        "print(\"Second Complex Number: \", end=\"\")\n",
        "c2.display()\n",
        "print(\"Sum of two complex numbers is \", end=\"\")\n",
        "c3.sum(c1,c2)\n",
        "c3.display()"
      ],
      "metadata": {
        "colab": {
          "base_uri": "https://localhost:8080/"
        },
        "id": "IGfwTcYzkcao",
        "outputId": "91abec42-d607-4240-c705-e838b3aafb25"
      },
      "execution_count": 28,
      "outputs": [
        {
          "output_type": "stream",
          "name": "stdout",
          "text": [
            "Enter first complex number\n",
            "Enter the Real Part: 32\n",
            "Enter the Imaginary Part: 2\n",
            "First Complex Number: 32+2i\n",
            "Enter second complex number\n",
            "Enter the Real Part: 3\n",
            "Enter the Imaginary Part: 4\n",
            "Second Complex Number: 3+4i\n",
            "Sum of two complex numbers is 35+6i\n"
          ]
        }
      ]
    },
    {
      "cell_type": "code",
      "source": [
        "import math\n",
        "\n",
        "class Number:\n",
        "    def __init__(self, value):\n",
        "        self.value = float(value)\n",
        "\n",
        "    def isZero(self):\n",
        "        return self.value == 0\n",
        "\n",
        "    def isPositive(self):\n",
        "        return self.value > 0\n",
        "\n",
        "    def isNegative(self):\n",
        "        return self.value < 0\n",
        "\n",
        "    def isOdd(self):\n",
        "        return self.value % 2 != 0\n",
        "\n",
        "    def isEven(self):\n",
        "        return self.value % 2 == 0\n",
        "\n",
        "    def isPrime(self):\n",
        "        if self.value < 2:\n",
        "            return False\n",
        "        for i in range(2, int(math.sqrt(self.value)) + 1):\n",
        "            if self.value % i == 0:\n",
        "                return False\n",
        "        return True\n",
        "\n",
        "    def isArmstrong(self):\n",
        "        temp = self.value\n",
        "        order = int(math.log10(temp)) + 1\n",
        "        result = 0\n",
        "        while temp > 0:\n",
        "            digit = temp % 10\n",
        "            result += digit ** order\n",
        "            temp //= 10\n",
        "        return result == self.value\n",
        "\n",
        "    def getFactorial(self):\n",
        "        if self.value < 0:\n",
        "            return \"Undefined (Factorial is not defined for negative numbers)\"\n",
        "        elif self.value == 0:\n",
        "            return 1\n",
        "        else:\n",
        "            return math.factorial(int(self.value))\n",
        "\n",
        "    def getSqrt(self):\n",
        "        if self.value < 0:\n",
        "            return \"Undefined (Square root is not defined for negative numbers)\"\n",
        "        else:\n",
        "            return math.sqrt(self.value)\n",
        "\n",
        "    def getSqr(self):\n",
        "        return self.value ** 2\n",
        "\n",
        "    def sumDigits(self):\n",
        "        return sum(int(digit) for digit in str(abs(int(self.value))))\n",
        "\n",
        "    def getReverse(self):\n",
        "        return float(str(abs(int(self.value)))[::-1]) * (-1 if self.value < 0 else 1)\n",
        "\n",
        "def main():\n",
        "    # Creating a Number object\n",
        "    num = Number(20)\n",
        "\n",
        "    # Invoking each method and displaying the result\n",
        "    print(f\"isZero: {num.isZero()}\")\n",
        "    print(f\"isPositive: {num.isPositive()}\")\n",
        "    print(f\"isNegative: {num.isNegative()}\")\n",
        "    print(f\"isOdd: {num.isOdd()}\")\n",
        "    print(f\"isEven: {num.isEven()}\")\n",
        "    print(f\"isPrime: {num.isPrime()}\")\n",
        "    print(f\"isArmstrong: {num.isArmstrong()}\")\n",
        "    print(f\"getFactorial: {num.getFactorial()}\")\n",
        "    print(f\"getSqrt: {num.getSqrt()}\")\n",
        "    print(f\"getSqr: {num.getSqr()}\")\n",
        "    print(f\"sumDigits: {num.sumDigits()}\")\n",
        "    print(f\"getReverse: {num.getReverse()}\")\n",
        "\n",
        "if __name__ == \"__main__\":\n",
        "    main()\n"
      ],
      "metadata": {
        "colab": {
          "base_uri": "https://localhost:8080/"
        },
        "id": "LANLiGCupzsr",
        "outputId": "10fe4479-b7ed-488a-c836-aeadb729cd45"
      },
      "execution_count": 32,
      "outputs": [
        {
          "output_type": "stream",
          "name": "stdout",
          "text": [
            "isZero: False\n",
            "isPositive: True\n",
            "isNegative: False\n",
            "isOdd: False\n",
            "isEven: True\n",
            "isPrime: False\n",
            "isArmstrong: False\n",
            "getFactorial: 2432902008176640000\n",
            "getSqrt: 4.47213595499958\n",
            "getSqr: 400.0\n",
            "sumDigits: 2\n",
            "getReverse: 2.0\n"
          ]
        }
      ]
    }
  ]
}