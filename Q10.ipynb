{
  "nbformat": 4,
  "nbformat_minor": 0,
  "metadata": {
    "colab": {
      "provenance": []
    },
    "kernelspec": {
      "name": "python3",
      "display_name": "Python 3"
    },
    "language_info": {
      "name": "python"
    }
  },
  "cells": [
    {
      "cell_type": "code",
      "execution_count": 1,
      "metadata": {
        "colab": {
          "base_uri": "https://localhost:8080/"
        },
        "id": "IW-I8d19Ckdh",
        "outputId": "6f74a497-75a7-4652-8f87-884c97085828"
      },
      "outputs": [
        {
          "output_type": "stream",
          "name": "stdout",
          "text": [
            "1 2 3 4 5 A B C D E \n",
            "Program terminated.\n"
          ]
        }
      ],
      "source": [
        "import threading\n",
        "import time\n",
        "\n",
        "semaphore = threading.Semaphore(1)\n",
        "\n",
        "def function_A():\n",
        "    for num in range(1, 6):\n",
        "        with semaphore:\n",
        "            print(num, end=\" \")\n",
        "            time.sleep(0.1)\n",
        "\n",
        "\n",
        "def function_B():\n",
        "    for letter in [\"A\", \"B\", \"C\", \"D\", \"E\"]:\n",
        "        with semaphore:\n",
        "            print(letter, end=\" \")\n",
        "            time.sleep(0.1)\n",
        "\n",
        "thread_A = threading.Thread(target=function_A)\n",
        "thread_B = threading.Thread(target=function_B)\n",
        "\n",
        "thread_A.start()\n",
        "thread_B.start()\n",
        "\n",
        "thread_A.join()\n",
        "thread_B.join()\n",
        "\n",
        "print(\"\\nProgram terminated.\")"
      ]
    }
  ]
}