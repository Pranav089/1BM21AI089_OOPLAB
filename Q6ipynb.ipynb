{
  "nbformat": 4,
  "nbformat_minor": 0,
  "metadata": {
    "colab": {
      "provenance": []
    },
    "kernelspec": {
      "name": "python3",
      "display_name": "Python 3"
    },
    "language_info": {
      "name": "python"
    }
  },
  "cells": [
    {
      "cell_type": "code",
      "execution_count": 1,
      "metadata": {
        "colab": {
          "base_uri": "https://localhost:8080/"
        },
        "id": "h9AqIVmm-QjP",
        "outputId": "7f9dfd99-7d15-4f17-e06c-a8935b73136c"
      },
      "outputs": [
        {
          "output_type": "stream",
          "name": "stdout",
          "text": [
            "Enter Father's age: 62\n",
            "Enter Son's age: 45\n",
            "Father's age: 62\n",
            "Son's age: 45\n"
          ]
        }
      ],
      "source": [
        "class WrongAge(Exception):\n",
        "    pass\n",
        "class AgeInvalid(Exception):\n",
        "    pass\n",
        "class Father:\n",
        "    def __init__(self, age):\n",
        "        if age < 0:\n",
        "            raise WrongAge(\"Age cannot be negative\")\n",
        "        self.age = age\n",
        "class Son(Father):\n",
        "    def __init__(self, father_age, son_age):\n",
        "        super().__init__(father_age)\n",
        "        if son_age >= father_age:\n",
        "            raise AgeInvalid(\"Son's age should be less than Father's age\")\n",
        "        self.son_age = son_age\n",
        "\n",
        "try:\n",
        "    father_age = int(input(\"Enter Father's age: \"))\n",
        "    son_age = int(input(\"Enter Son's age: \"))\n",
        "    son_instance = Son(father_age, son_age)\n",
        "    print(\"Father's age:\", father_age)\n",
        "    print(\"Son's age:\", son_age)\n",
        "except WrongAge as wa:\n",
        "    print(f\"Error: {wa}\")\n",
        "except AgeInvalid as ai:\n",
        "    print(f\"Error: {ai}\")"
      ]
    },
    {
      "cell_type": "code",
      "source": [
        "class FormulaError(Exception):\n",
        "    pass\n",
        "\n",
        "\n",
        "def calculate(formula):\n",
        "    try:\n",
        "        elements = formula.split()\n",
        "        if len(elements) != 3:\n",
        "            raise FormulaError(\"Invalid input: Must consist of 3 elements\")\n",
        "\n",
        "        num1 = float(elements[0])\n",
        "        operator = elements[1]\n",
        "        num2 = float(elements[2])\n",
        "\n",
        "        if operator not in [\"+\", \"-\"]:\n",
        "            raise FormulaError(\"Invalid operator: Use only '+' or '-'\")\n",
        "\n",
        "        if operator == \"+\":\n",
        "            result = num1 + num2\n",
        "        else:\n",
        "            result = num1 - num2\n",
        "\n",
        "        print(\"Result:\", result)\n",
        "\n",
        "    except ValueError:\n",
        "        raise FormulaError(\"Invalid input: Unable to convert to float\")\n",
        "\n",
        "\n",
        "# Interactive calculator\n",
        "while True:\n",
        "    user_input = input(\"Enter a formula (or 'quit' to exit): \").strip()\n",
        "\n",
        "    if user_input.lower() == \"quit\":\n",
        "        break\n",
        "\n",
        "    try:\n",
        "        calculate(user_input)\n",
        "    except FormulaError as fe:\n",
        "        print(f\"Error: {fe}\")"
      ],
      "metadata": {
        "colab": {
          "base_uri": "https://localhost:8080/"
        },
        "id": "WBFNiqB3-ZQQ",
        "outputId": "404f9678-52e5-4853-ac22-3d3d15e82eaa"
      },
      "execution_count": 2,
      "outputs": [
        {
          "name": "stdout",
          "output_type": "stream",
          "text": [
            "Enter a formula (or 'quit' to exit): 6+9\n",
            "Error: Invalid input: Must consist of 3 elements\n",
            "Enter a formula (or 'quit' to exit): quit\n"
          ]
        }
      ]
    }
  ]
}