{
  "nbformat": 4,
  "nbformat_minor": 0,
  "metadata": {
    "colab": {
      "provenance": []
    },
    "kernelspec": {
      "name": "python3",
      "display_name": "Python 3"
    },
    "language_info": {
      "name": "python"
    }
  },
  "cells": [
    {
      "cell_type": "code",
      "execution_count": null,
      "metadata": {
        "colab": {
          "base_uri": "https://localhost:8080/"
        },
        "id": "EytzkNcO_81_",
        "outputId": "067d0966-c27c-4c46-fca3-0f90730f173d"
      },
      "outputs": [
        {
          "output_type": "stream",
          "name": "stdout",
          "text": [
            "pygame 2.5.2 (SDL 2.28.2, Python 3.10.12)\n",
            "Hello from the pygame community. https://www.pygame.org/contribute.html\n"
          ]
        }
      ],
      "source": [
        "import pygame\n",
        "import sys\n",
        "\n",
        "pygame.init()\n",
        "\n",
        "width, height = 400, 400\n",
        "screen = pygame.display.set_mode((width, height))\n",
        "pygame.display.set_caption(\"Shapes Drawing\")\n",
        "\n",
        "blue, green, black = (0, 0, 255), (0, 255, 0), (0, 0, 0)\n",
        "\n",
        "while True:\n",
        "    for e in pygame.event.get():\n",
        "        if e.type == pygame.QUIT:\n",
        "            pygame.quit(), sys.exit()\n",
        "\n",
        "    screen.fill((255, 255, 255))\n",
        "    pygame.draw.polygon(\n",
        "        screen, blue, [(146, 0), (291, 106), (236, 277), (56, 277), (0, 106)]\n",
        "    )\n",
        "    pygame.draw.line(screen, green, (60, 300), (120, 300), 4)\n",
        "    pygame.draw.circle(screen, green, (300, 50), 20)\n",
        "    pygame.draw.ellipse(screen, black, (300, 250, 40, 80), 1)\n",
        "    pygame.draw.rect(screen, black, (150, 300, 100, 50))\n",
        "    pygame.display.flip()\n",
        "    pygame.time.Clock().tick(30)"
      ]
    }
  ]
}