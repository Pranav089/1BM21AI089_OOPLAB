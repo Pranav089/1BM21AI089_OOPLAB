{
  "nbformat": 4,
  "nbformat_minor": 0,
  "metadata": {
    "colab": {
      "provenance": []
    },
    "kernelspec": {
      "name": "python3",
      "display_name": "Python 3"
    },
    "language_info": {
      "name": "python"
    }
  },
  "cells": [
    {
      "cell_type": "code",
      "execution_count": 1,
      "metadata": {
        "colab": {
          "base_uri": "https://localhost:8080/"
        },
        "id": "QMJ7OlQ7ADcj",
        "outputId": "7d3ba6bc-fef6-4f59-b6fb-51c2e0b67166"
      },
      "outputs": [
        {
          "output_type": "stream",
          "name": "stdout",
          "text": [
            "Thread 1: Generated 59\n",
            "Thread 3: Cube: 205379\n",
            "Thread 1: Generated 96\n",
            "Thread 2: Square: 9216\n",
            "Thread 1: Generated 85\n",
            "Thread 3: Cube: 614125\n",
            "Thread 1: Generated 83\n",
            "Thread 3: Cube: 571787\n",
            "Thread 1: Generated 67\n",
            "Thread 3: Cube: 300763\n",
            "Thread 1: Generated 82\n",
            "Thread 2: Square: 6724\n",
            "Thread 1: Generated 72\n",
            "Thread 2: Square: 5184\n",
            "Thread 1: Generated 33\n",
            "Thread 3: Cube: 35937\n",
            "Thread 1: Generated 34\n",
            "Thread 2: Square: 1156\n",
            "Thread 1: Generated 35\n",
            "Thread 3: Cube: 42875\n",
            "Program stopped after 10 iterations.\n"
          ]
        }
      ],
      "source": [
        "import threading\n",
        "import random\n",
        "import time\n",
        "\n",
        "iterations = 10\n",
        "\n",
        "\n",
        "def generate_and_print():\n",
        "    for _ in range(iterations):\n",
        "        value = random.randint(1, 100)\n",
        "        print(f\"Thread 1: Generated {value}\")\n",
        "        if value % 2 == 0:\n",
        "            square_thread(value)\n",
        "        else:\n",
        "            cube_thread(value)\n",
        "        time.sleep(1)\n",
        "\n",
        "def square_thread(value):\n",
        "    print(f\"Thread 2: Square: {value ** 2}\")\n",
        "\n",
        "def cube_thread(value):\n",
        "    print(f\"Thread 3: Cube: {value ** 3}\")\n",
        "\n",
        "thread1 = threading.Thread(target=generate_and_print)\n",
        "thread1.start()\n",
        "thread1.join()\n",
        "print(\"Program stopped after\", iterations, \"iterations.\")"
      ]
    }
  ]
}