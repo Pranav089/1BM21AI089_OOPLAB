{
  "nbformat": 4,
  "nbformat_minor": 0,
  "metadata": {
    "colab": {
      "provenance": []
    },
    "kernelspec": {
      "name": "python3",
      "display_name": "Python 3"
    },
    "language_info": {
      "name": "python"
    }
  },
  "cells": [
    {
      "cell_type": "code",
      "execution_count": 1,
      "metadata": {
        "colab": {
          "base_uri": "https://localhost:8080/"
        },
        "id": "aREab2oVBbF_",
        "outputId": "f4b8c860-74ec-4d87-c45b-94740833d951"
      },
      "outputs": [
        {
          "output_type": "stream",
          "name": "stdout",
          "text": [
            "Farmer 1 produced Tomato\n",
            "Farmer 2 produced Tomato\n",
            "Consumer 3 purchased Tomato from Farmer 1\n",
            "Consumer 4 purchased Tomato from Farmer 2\n",
            "Farmer 0 produced Cabbage\n",
            "Simulation finished.\n"
          ]
        }
      ],
      "source": [
        "\n",
        "import threading\n",
        "import time\n",
        "import queue\n",
        "import random\n",
        "\n",
        "class VegetableMarket:\n",
        "    def __init__(self, capacity):\n",
        "        self.capacity = capacity\n",
        "        self.vegetable_queue = queue.Queue(maxsize=capacity)\n",
        "        self.stop_simulation = False\n",
        "        self.lock = threading.Lock()\n",
        "\n",
        "    def farmer_produce(self, farmer_id, vegetable_type):\n",
        "        while not self.stop_simulation:\n",
        "            time.sleep(random.uniform(1, 3))\n",
        "            with self.lock:\n",
        "                if not self.vegetable_queue.full():\n",
        "                    self.vegetable_queue.put((farmer_id, vegetable_type))\n",
        "                    print(f\"Farmer {farmer_id} produced {vegetable_type}\")\n",
        "\n",
        "    def consumer_purchase(self, consumer_id, desired_vegetable):\n",
        "        while not self.stop_simulation:\n",
        "            with self.lock:\n",
        "                try:\n",
        "                    farmer_id, vegetable_type = self.vegetable_queue.get(timeout=1)\n",
        "                    if vegetable_type == desired_vegetable:\n",
        "                        print(\n",
        "                            f\"Consumer {consumer_id} purchased {vegetable_type} from Farmer {farmer_id}\"\n",
        "                        )\n",
        "                        return\n",
        "                    else:\n",
        "                        print(\n",
        "                            f\"Consumer {consumer_id} is waiting for {desired_vegetable}\"\n",
        "                        )\n",
        "                except queue.Empty:\n",
        "                    pass\n",
        "\n",
        "market = VegetableMarket(capacity=5)\n",
        "\n",
        "farmers = []\n",
        "for farmer_id in range(3):\n",
        "    vegetable_type = random.choice([\"Tomato\", \"Carrot\", \"Cabbage\"])\n",
        "    farmer_thread = threading.Thread(\n",
        "        target=market.farmer_produce, args=(farmer_id, vegetable_type)\n",
        "    )\n",
        "    farmers.append(farmer_thread)\n",
        "    farmer_thread.start()\n",
        "\n",
        "consumers = []\n",
        "for consumer_id in range(5):\n",
        "    desired_vegetable = random.choice([\"Tomato\", \"Carrot\", \"Cabbage\"])\n",
        "    consumer_thread = threading.Thread(\n",
        "        target=market.consumer_purchase, args=(consumer_id, desired_vegetable)\n",
        "    )\n",
        "    consumers.append(consumer_thread)\n",
        "    consumer_thread.start()\n",
        "\n",
        "time.sleep(20)\n",
        "\n",
        "market.stop_simulation = True\n",
        "\n",
        "for farmer_thread in farmers:\n",
        "    farmer_thread.join()\n",
        "\n",
        "for consumer_thread in consumers:\n",
        "    consumer_thread.join()\n",
        "\n",
        "print(\"Simulation finished.\")\n",
        "\n",
        ""
      ]
    }
  ]
}